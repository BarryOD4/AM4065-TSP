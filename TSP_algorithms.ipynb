{
 "cells": [
  {
   "cell_type": "code",
   "execution_count": 1,
   "id": "d7954fad-618f-42a8-b9ec-7ba4502438cd",
   "metadata": {},
   "outputs": [],
   "source": [
    "import matplotlib.pyplot as plt\n",
    "import numpy as np\n",
    "import itertools as itr\n",
    "import time\n",
    "import csv"
   ]
  },
  {
   "cell_type": "markdown",
   "id": "fc968923-aa8c-449b-bbeb-01f24c90b3ed",
   "metadata": {},
   "source": [
    "This is supplementary code written by Barry O'Donnell in October 2021 for module AM4065.\n",
    "\n",
    "The code supports a project focused on the Travelling Salesman Problem (TSP) and the algorithms of finding the shortest path."
   ]
  },
  {
   "cell_type": "code",
   "execution_count": 2,
   "id": "d41c694b-6101-40b5-88bd-5eacf564fd1c",
   "metadata": {},
   "outputs": [],
   "source": [
    "def GetRandomArray(n):\n",
    "    \"\"\"\n",
    "    Creates weighted (n x n) array with no self loops\n",
    "    IN:  n := int, amount of nodes\n",
    "    \n",
    "    OUT: arr := np.array(), weighted network\n",
    "    \"\"\"\n",
    "\n",
    "    arr = np.random.randint(1, 5, (n,n))\n",
    "    np.fill_diagonal(arr, 0)\n",
    "\n",
    "    return arr * arr.T\n",
    "\n",
    "\n",
    "def GetCost(arr, i, j):\n",
    "    \"\"\"\n",
    "    Return cost of travelling from 'i' node to 'j' node\n",
    "    IN:  arr := np.array(), weighted network\n",
    "         i := int, node i\n",
    "         j := int, node j\n",
    "    \n",
    "    OUT: cost := int, weight of edge{i,j}\n",
    "    \"\"\"\n",
    "    \n",
    "    return arr[i][j]"
   ]
  },
  {
   "cell_type": "markdown",
   "id": "1fcf7acb-0794-4905-9b8a-98b3bdab7887",
   "metadata": {
    "tags": []
   },
   "source": [
    "## Brute Force Algorithm"
   ]
  },
  {
   "cell_type": "code",
   "execution_count": 3,
   "id": "f7c6503c-4c4f-4f14-a038-213c951d9dae",
   "metadata": {},
   "outputs": [],
   "source": [
    "def GetPaths(n):\n",
    "    \"\"\"\n",
    "    Creates all paths for network of 'n' nodes\n",
    "    IN:  n := int, amount of nodes\n",
    "    \n",
    "    OUT: paths := np.array(), array of all paths \n",
    "    \"\"\"\n",
    "    \n",
    "    nodes = np.array([i for i in range(n)][1:])\n",
    "    return np.array(list(itr.permutations(nodes)))\n",
    "\n",
    "\n",
    "def TSP_BF_path(arr, path):\n",
    "    \"\"\"\n",
    "    Calculates path cost\n",
    "    IN:  arr := np.array(), weighted network\n",
    "         path := np.array(), path through the network\n",
    "    \n",
    "    OUT: cost := int, cost of path\n",
    "    \"\"\"\n",
    "    \n",
    "    cost = 0\n",
    "    start = 0\n",
    "    for i in range(len(path)):\n",
    "        cost += GetCost(arr, start, path[i])\n",
    "        start = path[i]\n",
    "    \n",
    "    cost += GetCost(arr, start, 0)\n",
    "    return cost\n",
    "\n",
    "\n",
    "def TSP_BF(arr):\n",
    "    \"\"\"\n",
    "    Finds shortest path through network\n",
    "    IN:  arr := np.array(), weighted network\n",
    "    \n",
    "    OUT: cost := int, cost of the path\n",
    "         path := np.array(), shortest path through network\n",
    "    \"\"\"\n",
    "    \n",
    "    paths = GetPaths(len(arr))\n",
    "    costs = np.zeros(len(paths))\n",
    "    \n",
    "    for i in range(len(paths)):\n",
    "        costs[i] += TSP_BF_path(arr, paths[i])\n",
    "    \n",
    "    \n",
    "    path = np.insert( np.insert(paths[np.argmin(costs)],0,0), len(arr), 0) \n",
    "    \n",
    "    return int(np.min(costs)), path\n",
    "    \n",
    "\n",
    "def TSP_BF_performance(n):\n",
    "    \"\"\"\n",
    "    Finds the computational time of a n node network by BF\n",
    "    IN:  n := int, nodes\n",
    "    \n",
    "    OUT: time := float, time elapsed while code ran\n",
    "    \"\"\"\n",
    "    arr = GetRandomArray(n)\n",
    "    \n",
    "    start = time.time()\n",
    "    cost, path = TSP_BF(arr)\n",
    "    end = time.time()\n",
    "    \n",
    "    return end-start\n",
    "\n",
    "\n",
    "def TSP_BF_avgperform(n, trials):\n",
    "    \"\"\"\n",
    "    Finds the average computational time of a n node network by BF\n",
    "    IN:  n := int, nodes\n",
    "         trials := int, amount of trials\n",
    "    \n",
    "    OUT: average comp. time := float, average computational time\n",
    "    \"\"\"\n",
    "    \n",
    "    avg = 0\n",
    "    for i in range(trials):\n",
    "        avg += TSP_BF_performance(n)\n",
    "    \n",
    "    return avg/trials"
   ]
  },
  {
   "cell_type": "markdown",
   "id": "7b961a02-9a71-4a41-b395-e6a3d0d3d70b",
   "metadata": {},
   "source": [
    "## Nearest Neighbour Algorithm"
   ]
  },
  {
   "cell_type": "code",
   "execution_count": 4,
   "id": "620b6afa-0da2-47d0-909e-e27c60b695f5",
   "metadata": {},
   "outputs": [],
   "source": [
    "def GetMinCost(arr, start, path):\n",
    "    \"\"\"\n",
    "    Finds the lowest weighted edge connected to 'start' node\n",
    "    IN:  arr := np.array(), weighted network\n",
    "         start := int, node i\n",
    "         path := np.array(), previously visited nodes\n",
    "         \n",
    "    OUT: next node := int, node with lowest weight connected to 'start' \n",
    "         cost := int, cost of edge{i,j}\n",
    "    \"\"\"\n",
    "    \n",
    "    n = len(arr)\n",
    "    costs = np.full((n),100)\n",
    "    \n",
    "    for i in range(n):\n",
    "        if i != start and i not in path:\n",
    "                costs[i] = GetCost(arr, start, i)\n",
    "                \n",
    "    return np.argmin(costs), np.min(costs)\n",
    "\n",
    "def TSP_NN(arr):\n",
    "    \"\"\"\n",
    "    Finds path of shortest immediate edges through network\n",
    "    IN:  arr := np.array(), weighted network\n",
    "    \n",
    "    OUT: cost := int, cost of the path\n",
    "         path := np.array(), shortest path through network\n",
    "    \"\"\"\n",
    "    \n",
    "    n = len(arr)\n",
    "    costs = 0\n",
    "    start = 0\n",
    "    #previous = np.ones(len(arr)+1)*len(arr) #Makes sure the largest value\n",
    "    path = np.full((len(arr)+1),None)\n",
    "    path[0] = 0\n",
    "    \n",
    "    for i in range(1,n):\n",
    "        \n",
    "        end, cost = GetMinCost(arr, start, path)\n",
    "        \n",
    "        path[i] = end\n",
    "        start = end\n",
    "        costs += cost\n",
    "        \n",
    "    path[-1] = 0\n",
    "    costs += GetCost(arr, end, 0)\n",
    "    return costs, path\n",
    "\n",
    "\n",
    "def TSP_NN_performance(n):\n",
    "    \"\"\"\n",
    "    Finds the computational time of a n node network by BF\n",
    "    IN:  n := int, nodes\n",
    "    \n",
    "    OUT: time := float, time elapsed while code ran\n",
    "    \"\"\"\n",
    "    arr = GetRandomArray(n)\n",
    "    \n",
    "    start = time.time()\n",
    "    cost, path = TSP_NN(arr)\n",
    "    end = time.time()\n",
    "    \n",
    "    return end-start\n",
    "\n",
    "\n",
    "def TSP_NN_avgperform(n, trials):\n",
    "    \"\"\"\n",
    "    Finds the average computational time of a n node network by BF\n",
    "    IN:  n := int, nodes\n",
    "         trials := int, amount of trials\n",
    "    \n",
    "    OUT: average comp. time := float, average computational time\n",
    "    \"\"\"\n",
    "    \n",
    "    avg = 0\n",
    "    for i in range(trials):\n",
    "        avg += TSP_NN_performance(n)\n",
    "    \n",
    "    return avg/trials"
   ]
  },
  {
   "cell_type": "markdown",
   "id": "e2655878-3d69-4ef1-8981-e4a406483278",
   "metadata": {},
   "source": [
    "## Firing Range"
   ]
  },
  {
   "cell_type": "code",
   "execution_count": 5,
   "id": "e0759ca5-cd1a-4112-811c-dee36b9783b5",
   "metadata": {},
   "outputs": [
    {
     "name": "stdout",
     "output_type": "stream",
     "text": [
      "[[0 3 2]\n",
      " [3 0 6]\n",
      " [2 6 0]]\n",
      "Brute force algorithm: The cost of the shortest path [0 1 2 0] is 11\n",
      "Nearest neighbour algorithm: The cost of the path [0 2 1 0] is 11\n",
      "Nearest neighbour guessed the correct shortest path!\n"
     ]
    }
   ],
   "source": [
    "## Testing Random Arrays\n",
    "n = 3\n",
    "arr = GetRandomArray(n)\n",
    "\n",
    "print(arr)\n",
    "\n",
    "## Shows user the cost of the path found by each network\n",
    "print(\"Brute force algorithm: The cost of the shortest path {} is {}\".format(TSP_BF(arr)[1],TSP_BF(arr)[0]))\n",
    "print(\"Nearest neighbour algorithm: The cost of the path {} is {}\".format(TSP_NN(arr)[1], TSP_NN(arr)[0]))\n",
    "\n",
    "\n",
    "if TSP_NN(arr)[0] == TSP_BF(arr)[0]:\n",
    "    print(\"Nearest neighbour guessed the correct shortest path!\")"
   ]
  },
  {
   "cell_type": "code",
   "execution_count": 6,
   "id": "c782778c-9f64-412e-902e-4e290db954b8",
   "metadata": {},
   "outputs": [],
   "source": [
    "## !!!WARNING!!! INCREASING n to > 12 may cause memory problems and/or result in\n",
    "##  a computer crash. Use a ones own discretion\n",
    "\n",
    "## Obtains a frequency array of correct guesses made by NN\n",
    "n = 8\n",
    "freq = np.zeros(n-2)\n",
    "\n",
    "## Attempt 1000 trials\n",
    "trials = 500\n",
    "for i in range(3,n+1):\n",
    "    for j in range(trials):\n",
    "        arr = GetRandomArray(i)\n",
    "        \n",
    "        ## Checks if path guessed is correct\n",
    "        if TSP_NN(arr)[0] == TSP_BF(arr)[0]:\n",
    "            ## If similar, NN correctly guessed\n",
    "            freq[i-3] += 1\n",
    "            \n",
    "## Saves data to some .csv for later use\n",
    "x = np.arange(3,n+1)\n",
    "with open('nn_correctness.csv', 'w', newline='') as f:\n",
    "    writer = csv.writer(f)\n",
    "\n",
    "    ## Saves node data to header\n",
    "    writer.writerow(x)\n",
    "\n",
    "    ## Saves correct guesses to first row\n",
    "    writer.writerow(freq)"
   ]
  },
  {
   "cell_type": "code",
   "execution_count": 7,
   "id": "ba234cf7-8fba-470c-bb22-e36043970831",
   "metadata": {},
   "outputs": [
    {
     "data": {
      "text/plain": [
       "[]"
      ]
     },
     "execution_count": 7,
     "metadata": {},
     "output_type": "execute_result"
    },
    {
     "data": {
      "image/png": "[encoded data removed]",
      "text/plain": [
       "<Figure size 432x288 with 1 Axes>"
      ]
     },
     "metadata": {
      "needs_background": "light"
     },
     "output_type": "display_data"
    }
   ],
   "source": [
    "## Graphs bar plot for user to interpret\n",
    "accuracy = freq / trials\n",
    "\n",
    "xvals = np.array([np.math.factorial(i) for i in range(1,n-1)])\n",
    "model = 1/xvals\n",
    "\n",
    "plt.bar(x, accuracy, color='k')\n",
    "plt.plot(x, model, color='r', linewidth=3, label=\"1 / (n-1)!\")\n",
    "plt.xlabel(\"Number of nodes n\")\n",
    "plt.ylabel(\"Percentage of correct guesses\")\n",
    "plt.legend()\n",
    "plt.savefig(\"tsp_nn_correctness.png\")\n",
    "plt.plot()"
   ]
  }
 ],
 "metadata": {
  "kernelspec": {
   "display_name": "Python 3 (ipykernel)",
   "language": "python",
   "name": "python3"
  },
  "language_info": {
   "codemirror_mode": {
    "name": "ipython",
    "version": 3
   },
   "file_extension": ".py",
   "mimetype": "text/x-python",
   "name": "python",
   "nbconvert_exporter": "python",
   "pygments_lexer": "ipython3",
   "version": "3.8.12"
  }
 },
 "nbformat": 4,
 "nbformat_minor": 5
}
